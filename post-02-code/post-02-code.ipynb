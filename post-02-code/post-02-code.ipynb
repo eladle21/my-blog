{
 "cells": [
  {
   "cell_type": "code",
   "execution_count": 1,
   "id": "4a03977f-c477-44ee-9f4c-2cca6e5fca25",
   "metadata": {},
   "outputs": [],
   "source": [
    "## part 3 - my own API\n",
    "\n",
    "## NBA API from GitHub\n",
    "from nba_api.stats.endpoints import teamgamelog\n",
    "from nba_api.stats.endpoints import boxscoretraditionalv2\n",
    "from nba_api.stats.static import teams\n",
    "import pandas as pd\n",
    "\n",
    "def get_team_id(team_name='Boston Celtics'):\n",
    "    nba_teams = teams.get_teams()\n",
    "    celtics = [team for team in nba_teams if team['full_name'] == team_name][0]\n",
    "    return celtics['id']\n",
    "\n",
    "celtics_team_id = get_team_id()\n",
    "\n",
    "gamelog = teamgamelog.TeamGameLog(team_id=celtics_team_id, season='2023-24', season_type_all_star='Regular Season')\n",
    "games_df = gamelog.get_data_frames()[0]\n",
    "\n",
    "team_stats_list = []\n",
    "\n",
    "for index, game in games_df.iterrows():\n",
    "    game_id = game['Game_ID']\n",
    "    boxscore = boxscoretraditionalv2.BoxScoreTraditionalV2(game_id=game_id)\n",
    "    boxscore_df = boxscore.get_data_frames()[1]\n",
    "    celtics_stats = boxscore_df[boxscore_df['TEAM_ID'] == celtics_team_id]\n",
    "    team_stats_list.append(celtics_stats)\n",
    "\n",
    "all_stats_df = pd.concat(team_stats_list, ignore_index=True)\n",
    "\n",
    "#print(all_stats_df)\n",
    "\n",
    "all_stats_df.to_csv('my_api_data.csv', index=False)"
   ]
  }
 ],
 "metadata": {
  "kernelspec": {
   "display_name": "Python 3 (ipykernel)",
   "language": "python",
   "name": "python3"
  },
  "language_info": {
   "codemirror_mode": {
    "name": "ipython",
    "version": 3
   },
   "file_extension": ".py",
   "mimetype": "text/x-python",
   "name": "python",
   "nbconvert_exporter": "python",
   "pygments_lexer": "ipython3",
   "version": "3.12.4"
  }
 },
 "nbformat": 4,
 "nbformat_minor": 5
}
